{
 "cells": [
  {
   "cell_type": "code",
   "execution_count": null,
   "id": "7fe85f63",
   "metadata": {},
   "outputs": [
    {
     "name": "stdout",
     "output_type": "stream",
     "text": [
      "✅ model_top_products.pkl saved successfully!\n",
      "Basket shape: (1000, 6)\n",
      "Sample rows:\n",
      "Product line  Electronic accessories  Fashion accessories  Food and beverages  \\\n",
      "Invoice ID                                                                      \n",
      "101-17-6199                    False                False                True   \n",
      "101-81-4070                    False                False               False   \n",
      "102-06-2002                    False                False               False   \n",
      "102-77-2261                    False                False               False   \n",
      "105-10-6182                    False                 True               False   \n",
      "\n",
      "Product line  Health and beauty  Home and lifestyle  Sports and travel  \n",
      "Invoice ID                                                              \n",
      "101-17-6199               False               False              False  \n",
      "101-81-4070                True               False              False  \n",
      "102-06-2002               False               False               True  \n",
      "102-77-2261                True               False              False  \n",
      "105-10-6182               False               False              False  \n",
      "Sum of each product sold in basket:\n",
      "Product line\n",
      "Electronic accessories    170\n",
      "Fashion accessories       178\n",
      "Food and beverages        174\n",
      "Health and beauty         152\n",
      "Home and lifestyle        160\n",
      "Sports and travel         166\n",
      "dtype: int64\n",
      "Number of rules: 0\n",
      "⚠️ No combo rules generated. Generating fallback combos...\n",
      "✅ Fallback combo_offers.csv created with dummy combos\n"
     ]
    },
    {
     "name": "stderr",
     "output_type": "stream",
     "text": [
      "C:\\Users\\danus\\AppData\\Local\\Temp\\ipykernel_20984\\693732030.py:42: FutureWarning: DataFrame.applymap has been deprecated. Use DataFrame.map instead.\n",
      "  basket = basket.applymap(lambda x: True if x > 0 else False)\n"
     ]
    }
   ],
   "source": [
    "import pandas as pd\n",
    "import numpy as np\n",
    "import joblib\n",
    "from sklearn.linear_model import LinearRegression\n",
    "from sklearn.model_selection import train_test_split\n",
    "from mlxtend.frequent_patterns import apriori, association_rules\n",
    "\n",
    "# Load data\n",
    "df = pd.read_csv('supermarket_sales.csv')\n",
    "df['Date'] = pd.to_datetime(df['Date'])\n",
    "df['Month'] = df['Date'].dt.month\n",
    "df['Year'] = df['Date'].dt.year\n",
    "\n",
    "# ----------------------------\n",
    "# Model 1: Top-Selling Product Prediction\n",
    "# ----------------------------\n",
    "\n",
    "# Prepare monthly sales data\n",
    "monthly_sales = df.groupby(['Year', 'Month', 'Product line'])['Quantity'].sum().reset_index()\n",
    "pivot = monthly_sales.pivot_table(index=['Year', 'Month'], columns='Product line', values='Quantity', fill_value=0)\n",
    "\n",
    "# Prepare features (X) and target (y)\n",
    "X = pivot.index.to_frame(index=False)\n",
    "y = pivot\n",
    "product_columns = list(y.columns)  # Save for predictions\n",
    "\n",
    "# Train model\n",
    "X_train, X_test, y_train, y_test = train_test_split(X, y, test_size=0.2, random_state=42)\n",
    "model1 = LinearRegression()\n",
    "model1.fit(X_train, y_train)\n",
    "\n",
    "# Save model and product columns as tuple\n",
    "joblib.dump((model1, product_columns), 'model_top_products.pkl')\n",
    "print(\"✅ model_top_products.pkl saved successfully!\")\n",
    "\n",
    "# ----------------------------\n",
    "# Model 2: Combo Offer Generation (Apriori)\n",
    "# ----------------------------\n",
    "\n",
    "# Prepare basket data: one-hot encode presence of product lines per Invoice ID\n",
    "basket = df.groupby(['Invoice ID', 'Product line'])['Quantity'].sum().unstack().fillna(0)\n",
    "basket = basket.applymap(lambda x: True if x > 0 else False)\n",
    "\n",
    "print(f\"Basket shape: {basket.shape}\")\n",
    "print(f\"Sample rows:\\n{basket.head()}\")\n",
    "print(f\"Sum of each product sold in basket:\\n{basket.sum()}\")\n",
    "\n",
    "# Generate frequent itemsets and association rules\n",
    "frequent_items = apriori(basket, min_support=0.01, use_colnames=True)\n",
    "rules = association_rules(frequent_items, metric=\"lift\", min_threshold=1)\n",
    "rules = rules[rules['confidence'] >= 0.2]\n",
    "\n",
    "print(f\"Number of rules: {len(rules)}\")\n",
    "if len(rules) == 0:\n",
    "    print(\"⚠️ No combo rules generated. Generating fallback combos...\")\n",
    "\n",
    "    # Fallback combo generation: pair least-selling with top-selling products\n",
    "    top_products = basket.sum().sort_values(ascending=False).index.tolist()\n",
    "    least_products = basket.sum().sort_values(ascending=True).index.tolist()\n",
    "\n",
    "    combos = []\n",
    "    for low in least_products[:3]:  # bottom 3\n",
    "        for high in top_products[:3]:  # top 3\n",
    "            if low != high:\n",
    "                combos.append({'antecedents': {low}, 'consequents': {high}})\n",
    "\n",
    "    combo_df = pd.DataFrame(combos)\n",
    "    combo_df.to_csv('combo_offers.csv', index=False)\n",
    "    print(\"✅ Fallback combo_offers.csv created with dummy combos\")\n",
    "else:\n",
    "    # Save the real generated combos\n",
    "    combo_df = rules[['antecedents', 'consequents']]\n",
    "    combo_df.to_csv('combo_offers.csv', index=False)\n",
    "    print(\"✅ combo_offers.csv saved successfully!\")\n"
   ]
  },
  {
   "cell_type": "code",
   "execution_count": 9,
   "id": "e79b287c",
   "metadata": {},
   "outputs": [
    {
     "name": "stdout",
     "output_type": "stream",
     "text": [
      "Basket shape: (1000, 6)\n",
      "Sample rows:\n",
      " Product line  Electronic accessories  Fashion accessories  Food and beverages  \\\n",
      "Invoice ID                                                                      \n",
      "101-17-6199                    False                False                True   \n",
      "101-81-4070                    False                False               False   \n",
      "102-06-2002                    False                False               False   \n",
      "102-77-2261                    False                False               False   \n",
      "105-10-6182                    False                 True               False   \n",
      "\n",
      "Product line  Health and beauty  Home and lifestyle  Sports and travel  \n",
      "Invoice ID                                                              \n",
      "101-17-6199               False               False              False  \n",
      "101-81-4070                True               False              False  \n",
      "102-06-2002               False               False               True  \n",
      "102-77-2261                True               False              False  \n",
      "105-10-6182               False               False              False  \n",
      "Sum of each product sold in basket:\n",
      " Product line\n",
      "Electronic accessories    170\n",
      "Fashion accessories       178\n",
      "Food and beverages        174\n",
      "Health and beauty         152\n",
      "Home and lifestyle        160\n",
      "Sports and travel         166\n",
      "dtype: int64\n"
     ]
    }
   ],
   "source": [
    "print(\"Basket shape:\", basket.shape)\n",
    "print(\"Sample rows:\\n\", basket.head())\n",
    "print(\"Sum of each product sold in basket:\\n\", basket.sum())\n"
   ]
  },
  {
   "cell_type": "code",
   "execution_count": 11,
   "id": "d2b7c1c0",
   "metadata": {},
   "outputs": [
    {
     "name": "stdout",
     "output_type": "stream",
     "text": [
      "Number of products per invoice distribution:\n",
      "num_products\n",
      "1    1000\n",
      "Name: count, dtype: int64\n"
     ]
    }
   ],
   "source": [
    "basket['num_products'] = basket.sum(axis=1)\n",
    "print(\"Number of products per invoice distribution:\")\n",
    "print(basket['num_products'].value_counts())\n"
   ]
  }
 ],
 "metadata": {
  "kernelspec": {
   "display_name": "base",
   "language": "python",
   "name": "python3"
  },
  "language_info": {
   "codemirror_mode": {
    "name": "ipython",
    "version": 3
   },
   "file_extension": ".py",
   "mimetype": "text/x-python",
   "name": "python",
   "nbconvert_exporter": "python",
   "pygments_lexer": "ipython3",
   "version": "3.12.7"
  }
 },
 "nbformat": 4,
 "nbformat_minor": 5
}
